{
 "cells": [
  {
   "cell_type": "code",
   "execution_count": 15,
   "id": "bf1b75f4",
   "metadata": {},
   "outputs": [],
   "source": [
    "from langgraph.graph import StateGraph,START,END\n",
    "from typing import TypedDict ,Literal"
   ]
  },
  {
   "cell_type": "code",
   "execution_count": 16,
   "id": "091778fb",
   "metadata": {},
   "outputs": [],
   "source": [
    "class QuadState(TypedDict):\n",
    "    a:int\n",
    "    b:int\n",
    "    c:int\n",
    "    equation:str\n",
    "    discriment:float \n",
    "    result:str "
   ]
  },
  {
   "cell_type": "code",
   "execution_count": 17,
   "id": "396ab389",
   "metadata": {},
   "outputs": [],
   "source": [
    "def show_equation(state:QuadState)->QuadState:\n",
    "    eqn=f\"{state['a']}x2{state['b']}x{state['c']}\"\n",
    "    return {'equation':eqn}"
   ]
  },
  {
   "cell_type": "code",
   "execution_count": 18,
   "id": "f9cf6624",
   "metadata": {},
   "outputs": [],
   "source": [
    "def cal_descriminant(state:QuadState)->QuadState:\n",
    "    val=(state['b']**2)-(4*state['a']*state['c'])\n",
    "    return {\n",
    "        'discriment':val\n",
    "    }"
   ]
  },
  {
   "cell_type": "code",
   "execution_count": 24,
   "id": "7b6457f6",
   "metadata": {},
   "outputs": [],
   "source": [
    "def real_root(state:QuadState)->QuadState:\n",
    "    root1=(-state['b']+ state['discriment']**0.5)/(2*state['a'])\n",
    "    root2=(-state['b']- state['discriment']**0.5)/(2*state['a'])\n",
    "    result=f\"Roots are {root1} and {root2}\"\n",
    "    return {\n",
    "        'result':result    }"
   ]
  },
  {
   "cell_type": "code",
   "execution_count": 25,
   "id": "1ead27f1",
   "metadata": {},
   "outputs": [],
   "source": [
    "def repated_roots(state:QuadState)->QuadState:\n",
    "    root=(-state['b'])/(2*state['a'])\n",
    "    result=f\"Roots are {root} and {root}\"\n",
    "    return {\n",
    "        'result':result    }"
   ]
  },
  {
   "cell_type": "code",
   "execution_count": 30,
   "id": "43e467ad",
   "metadata": {},
   "outputs": [],
   "source": [
    "def no_real_roots(state:QuadState)->QuadState:\n",
    "    result=f\"Roots are Imaginary \"\n",
    "    return {\n",
    "        'result':result   }"
   ]
  },
  {
   "cell_type": "code",
   "execution_count": null,
   "id": "be307826",
   "metadata": {},
   "outputs": [],
   "source": [
    "def check_condition(state:QuadState)->Literal['real_root','repated_roots','no_real_roots']:\n",
    "    if(state['discriment']>0):\n",
    "        return 'real_root'\n",
    "    elif (state['discriment']==0):\n",
    "        return 'repated_roots'\n",
    "    else :\n",
    "        return 'no_real_roots'\n"
   ]
  },
  {
   "cell_type": "code",
   "execution_count": 39,
   "id": "9617cd65",
   "metadata": {},
   "outputs": [
    {
     "data": {
      "image/png": "[encoded data removed]",
      "text/plain": [
       "<langgraph.graph.state.CompiledStateGraph object at 0x10f309f90>"
      ]
     },
     "execution_count": 39,
     "metadata": {},
     "output_type": "execute_result"
    }
   ],
   "source": [
    "graph=StateGraph(QuadState)\n",
    "\n",
    "graph.add_node('show_eqaution',show_equation)\n",
    "graph.add_node('cal_descriminant',cal_descriminant)\n",
    "graph.add_node('real_root',real_root)\n",
    "graph.add_node('repated_roots',repated_roots)\n",
    "graph.add_node('no_real_roots',no_real_roots)\n",
    "\n",
    "\n",
    "graph.add_edge(START,'show_eqaution')\n",
    "graph.add_edge('show_eqaution','cal_descriminant')\n",
    "graph.add_conditional_edges('cal_descriminant',check_condition)\n",
    "graph.add_edge('real_root',END)\n",
    "graph.add_edge('repated_roots',END)\n",
    "graph.add_edge('no_real_roots',END)\n",
    "\n",
    "workflow=graph.compile()\n",
    "\n",
    "workflow"
   ]
  },
  {
   "cell_type": "code",
   "execution_count": 40,
   "id": "ce417db6",
   "metadata": {},
   "outputs": [
    {
     "data": {
      "text/plain": [
       "{'a': 4,\n",
       " 'b': -5,\n",
       " 'c': -4,\n",
       " 'equation': '4x2-5x-4',\n",
       " 'discriment': 89,\n",
       " 'result': 'Roots are 1.8042476415070754 and -0.5542476415070754'}"
      ]
     },
     "execution_count": 40,
     "metadata": {},
     "output_type": "execute_result"
    }
   ],
   "source": [
    "intial_state={\n",
    "    'a':4,\n",
    "    'b':-5,\n",
    "    'c':-4\n",
    "}\n",
    "\n",
    "final_state=workflow.invoke(intial_state)\n",
    "final_state"
   ]
  },
  {
   "cell_type": "code",
   "execution_count": null,
   "id": "af89091a",
   "metadata": {},
   "outputs": [],
   "source": []
  }
 ],
 "metadata": {
  "kernelspec": {
   "display_name": "venv (3.13.5)",
   "language": "python",
   "name": "python3"
  },
  "language_info": {
   "codemirror_mode": {
    "name": "ipython",
    "version": 3
   },
   "file_extension": ".py",
   "mimetype": "text/x-python",
   "name": "python",
   "nbconvert_exporter": "python",
   "pygments_lexer": "ipython3",
   "version": "3.13.5"
  }
 },
 "nbformat": 4,
 "nbformat_minor": 5
}
