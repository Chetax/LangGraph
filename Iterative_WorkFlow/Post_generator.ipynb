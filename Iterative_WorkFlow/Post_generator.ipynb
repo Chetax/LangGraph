{
 "cells": [
  {
   "cell_type": "code",
   "execution_count": 14,
   "id": "c7ceff5b",
   "metadata": {},
   "outputs": [
    {
     "data": {
      "text/plain": [
       "True"
      ]
     },
     "execution_count": 14,
     "metadata": {},
     "output_type": "execute_result"
    }
   ],
   "source": [
    "from langgraph.graph import StateGraph,START,END\n",
    "from typing import TypedDict,Literal,Annotated\n",
    "from langchain_google_genai import ChatGoogleGenerativeAI\n",
    "from langchain_core.messages import SystemMessage,HumanMessage\n",
    "from dotenv import load_dotenv\n",
    "from pydantic import BaseModel,Field\n",
    "import operator\n",
    "load_dotenv()"
   ]
  },
  {
   "cell_type": "code",
   "execution_count": 15,
   "id": "dba3e965",
   "metadata": {},
   "outputs": [],
   "source": [
    "class strucuted_Schema_For_Tweet_Evolution(BaseModel):\n",
    "    evolution:Literal['approved','need_improvement']=Field(description='Final Evolution wheather approved or need improvement')\n",
    "    feedback:str=Field(description='feedback for the tweet')"
   ]
  },
  {
   "cell_type": "code",
   "execution_count": 16,
   "id": "e9081b17",
   "metadata": {},
   "outputs": [
    {
     "name": "stderr",
     "output_type": "stream",
     "text": [
      "E0000 00:00:1760459999.537426   30266 alts_credentials.cc:93] ALTS creds ignored. Not running on GCP and untrusted ALTS is not enabled.\n",
      "E0000 00:00:1760459999.540032   30266 alts_credentials.cc:93] ALTS creds ignored. Not running on GCP and untrusted ALTS is not enabled.\n",
      "E0000 00:00:1760459999.543199   30266 alts_credentials.cc:93] ALTS creds ignored. Not running on GCP and untrusted ALTS is not enabled.\n"
     ]
    }
   ],
   "source": [
    "generator_llm=ChatGoogleGenerativeAI(model=\"gemini-2.5-flash-lite\")\n",
    "evaluator_llm=ChatGoogleGenerativeAI(model=\"gemini-2.5-flash\")\n",
    "strucutred_evalautor_llm=evaluator_llm.with_structured_output(strucuted_Schema_For_Tweet_Evolution)\n",
    "optimizer_llm=ChatGoogleGenerativeAI(model=\"gemini-2.5-flash\")"
   ]
  },
  {
   "cell_type": "code",
   "execution_count": 17,
   "id": "cfa6b956",
   "metadata": {},
   "outputs": [],
   "source": [
    "class TweetState(TypedDict):\n",
    "    topic:str \n",
    "    tweet:str\n",
    "    evalution:Literal['approved','needs_improvement']\n",
    "    feedback:str\n",
    "    iteration:int\n",
    "    max_iteration:int\n",
    "    tweet_hsitory:Annotated[list[str],operator.add]\n",
    "    feedback_hsitory:Annotated[list[str],operator.add]"
   ]
  },
  {
   "cell_type": "code",
   "execution_count": 18,
   "id": "3d594119",
   "metadata": {},
   "outputs": [],
   "source": [
    "def generate_tweet(state:TweetState):\n",
    "    topic=state['topic']\n",
    "    messages = [\n",
    "SystemMessage(content=\"You are funny and clever Twitter/X influencer.\"),\n",
    "HumanMessage(content=f\"\"\"\n",
    "Write a short, original, and hilarious tweet on the topic: {topic}.\n",
    "Rules:\n",
    "Do NOT use question-answer format.\n",
    "- Max 280 characters.\n",
    "- Use observational humor, irony, sarcasm, or cultural references.\n",
    "- Think in meme logic, punchlines, or relatable takes.\n",
    "- Use simple, day to day english\n",
    "- This is version {state['iteration']+1}\n",
    "\"\"\")\n",
    "]\n",
    "    response=generator_llm.invoke(messages).content\n",
    "    return {\n",
    "        'tweet':response,\n",
    "        'tweet_hsitory':[response]\n",
    "    }"
   ]
  },
  {
   "cell_type": "code",
   "execution_count": 19,
   "id": "3272a127",
   "metadata": {},
   "outputs": [],
   "source": [
    "def evaulate_tweet(state:TweetState):\n",
    "    messages = [\n",
    "SystemMessage(content=\"You are a ruthless, no-laugh-given Twitter critic. You evaluate tweets based on humor,originality, virality, and tweet format.\"),\n",
    "HumanMessage(content=f\"\"\"\n",
    "Evaluate the following tweet:\n",
    "             \n",
    "Tweet: \"{state['tweet']}\"\n",
    "             \n",
    "Use the criteria below to evaluate the tweet:\n",
    "\n",
    "1. Originality - Is this fresh, or have you seen it a hundred times before?\n",
    "2. Humor - Did it genuinely make you smile, laugh, or chuckle?\n",
    "3. Punchiness - Is it short, sharp, and scroll-stopping?\n",
    "4. Virality Potential - Would people retweet or share it?\n",
    "5. Format - Is it a well-formed tweet (not a setup-punchline joke, not a Q&A joke, and under 400 characters)?\n",
    "\n",
    "Auto-reject if:\n",
    "- It's written in question-answer format (e.g., \"why |did...\" or \"what happens when...\")\n",
    "- It exceeds 400 characters\n",
    "- It reads like a traditional setup-punchline joke\n",
    "- Dont end with generic, throwaway, or deflating lines that weaken the humor (e.g., \"Masterpieces of the auntie-uncle universe\" or vague summaries)\n",
    "\n",
    "### Respond ONLY in structured format:\n",
    "- evaluation: \"approved\" or \"needs_improvement\"\n",
    "feedback: One paragraph explaining the strengths and weaknesses\n",
    "\n",
    "\"\"\")\n",
    "    ]\n",
    "    response=strucutred_evalautor_llm.invoke(messages)\n",
    "    return {\n",
    "        'evalution':response.evolution,\"feedback\":response.feedback , \"feedback_hsitory\":[response.feedback]\n",
    "    }\n"
   ]
  },
  {
   "cell_type": "code",
   "execution_count": 20,
   "id": "494dfe59",
   "metadata": {},
   "outputs": [],
   "source": [
    "def optimize_tweet(state:TweetState):\n",
    "    messages = [\n",
    "SystemMessage(content= \"You punch up tweets for virality and humor based on given feedback.\"),\n",
    "HumanMessage(content=f\"\"\"\n",
    "Improve the tweet based on this feedback:\n",
    "\"{state[\"feedback\"]}\"\n",
    "Topic: \"{state[\"topic\"]}\"\n",
    "Original Tweet:\n",
    "\"{state[\"tweet\"]}\"\n",
    "Re-write it as a short, viral-worthy tweet. Avoid Q&A style and stay under 280 characters.\n",
    "\"\"\")]\n",
    "    response=optimizer_llm.invoke(messages).content\n",
    "    iteration=state['iteration']+1\n",
    "    return {\n",
    "         'tweet':response,\n",
    "         'tweet_hsitory':[response],\n",
    "         'iteration':iteration\n",
    "    }"
   ]
  },
  {
   "cell_type": "code",
   "execution_count": 21,
   "id": "c6b860de",
   "metadata": {},
   "outputs": [],
   "source": [
    "def handle_evolution(state:TweetState)->Literal['optmize','END']:\n",
    "    if state['evalution']=='approved' or state['iteration']>state['max_iteration']:\n",
    "        return 'approved'\n",
    "    return 'needs_improvement'"
   ]
  },
  {
   "cell_type": "code",
   "execution_count": 22,
   "id": "f97e0197",
   "metadata": {},
   "outputs": [
    {
     "data": {
      "image/png": "[encoded data removed]",
      "text/plain": [
       "<langgraph.graph.state.CompiledStateGraph object at 0x10e20f110>"
      ]
     },
     "execution_count": 22,
     "metadata": {},
     "output_type": "execute_result"
    }
   ],
   "source": [
    "graph=StateGraph(TweetState)\n",
    "\n",
    "graph.add_node('generate',generate_tweet)\n",
    "graph.add_node('evaulate',evaulate_tweet)\n",
    "graph.add_node('optmize',optimize_tweet)\n",
    "\n",
    "\n",
    "graph.add_edge(START,'generate')\n",
    "graph.add_edge('generate','evaulate')\n",
    "graph.add_conditional_edges('evaulate',handle_evolution,{'approved':END,'needs_improvement':'optmize'})\n",
    "graph.add_edge('optmize','evaulate')\n",
    "\n",
    "workflow=graph.compile()\n",
    "workflow\n",
    "\n"
   ]
  },
  {
   "cell_type": "code",
   "execution_count": 27,
   "id": "3ae85bdc",
   "metadata": {},
   "outputs": [],
   "source": [
    "intial_state={\n",
    "    'topic':'Egdbeq',\n",
    "    'iteration':1,\n",
    "    'max_iteration':5\n",
    "}\n",
    "final_state=workflow.invoke(intial_state)\n"
   ]
  },
  {
   "cell_type": "code",
   "execution_count": 28,
   "id": "8e6036f6",
   "metadata": {},
   "outputs": [
    {
     "data": {
      "text/plain": [
       "{'topic': 'Egdbeq',\n",
       " 'tweet': \"Just tried to spell 'Egdbeq'. My brain immediately went on strike, demanding hazard pay and a new dictionary. This isn't a word, it's a neurological challenge. 🤯 #Egdbeq #BrainMelt\",\n",
       " 'evalution': 'approved',\n",
       " 'feedback': \"This tweet demonstrates strong humor and originality, particularly with the clever imagery of a brain going on strike and demanding hazard pay for a 'neurological challenge.' The made-up word 'Egdbeq' serves as an excellent focal point, making the scenario highly relatable to anyone who's struggled with spelling. Its concise format, effective use of emojis, and relevant hashtags contribute to its punchiness and high virality potential, making it a well-crafted and engaging piece of content that would likely resonate with a broad audience on Twitter.\",\n",
       " 'iteration': 2,\n",
       " 'max_iteration': 5,\n",
       " 'tweet_hsitory': ['My brain trying to remember the password I set 3 years ago vs. my brain trying to spell \"Egdbeq\":\\n\\nBrain: \"Egdbeq? Is that a new crypto? A secret handshake? A typo so profound it becomes a word?\"\\n\\nMe: *stares blankly at the screen* 🤯 #Egdbeq #BrainFog #WhatIsThisSorcery',\n",
       "  \"Just tried to spell 'Egdbeq'. My brain immediately went on strike, demanding hazard pay and a new dictionary. This isn't a word, it's a neurological challenge. 🤯 #Egdbeq #BrainMelt\"],\n",
       " 'feedback_hsitory': ['While the tweet demonstrates good humor, originality in its specific execution of a relatable concept, and strong virality potential due to its widespread appeal, it unfortunately falls short on the critical format requirement. The structure clearly presents a setup (\\'My brain trying to remember the password... vs. spelling \"Egdbeq\"\\') followed by a distinct punchline delivered through the brain\\'s internal monologue and the \\'Me\\' reaction. This adheres too closely to a traditional setup-punchline joke format, which is explicitly prohibited by the evaluation criteria, hindering its approval despite its comedic strengths.',\n",
       "  \"This tweet demonstrates strong humor and originality, particularly with the clever imagery of a brain going on strike and demanding hazard pay for a 'neurological challenge.' The made-up word 'Egdbeq' serves as an excellent focal point, making the scenario highly relatable to anyone who's struggled with spelling. Its concise format, effective use of emojis, and relevant hashtags contribute to its punchiness and high virality potential, making it a well-crafted and engaging piece of content that would likely resonate with a broad audience on Twitter.\"]}"
      ]
     },
     "execution_count": 28,
     "metadata": {},
     "output_type": "execute_result"
    }
   ],
   "source": [
    "final_state"
   ]
  }
 ],
 "metadata": {
  "kernelspec": {
   "display_name": "venv (3.13.5)",
   "language": "python",
   "name": "python3"
  },
  "language_info": {
   "codemirror_mode": {
    "name": "ipython",
    "version": 3
   },
   "file_extension": ".py",
   "mimetype": "text/x-python",
   "name": "python",
   "nbconvert_exporter": "python",
   "pygments_lexer": "ipython3",
   "version": "3.13.5"
  }
 },
 "nbformat": 4,
 "nbformat_minor": 5
}
