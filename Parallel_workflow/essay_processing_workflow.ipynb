{
 "cells": [
  {
   "cell_type": "markdown",
   "id": "0a1dd124",
   "metadata": {},
   "source": [
    "## Here we will build an parallel work flow "
   ]
  },
  {
   "cell_type": "code",
   "execution_count": 20,
   "id": "2dc2431c",
   "metadata": {},
   "outputs": [],
   "source": [
    "from langgraph.graph import StateGraph,START,END\n",
    "from langchain_google_genai import ChatGoogleGenerativeAI\n",
    "from typing import TypedDict , Annotated\n",
    "from dotenv import load_dotenv\n",
    "from pydantic import BaseModel,Field\n",
    "import operator"
   ]
  },
  {
   "cell_type": "code",
   "execution_count": 21,
   "id": "1e09b1a4",
   "metadata": {},
   "outputs": [
    {
     "name": "stderr",
     "output_type": "stream",
     "text": [
      "E0000 00:00:1760383972.208807  343050 alts_credentials.cc:93] ALTS creds ignored. Not running on GCP and untrusted ALTS is not enabled.\n"
     ]
    }
   ],
   "source": [
    "load_dotenv()\n",
    "\n",
    "llm=ChatGoogleGenerativeAI(\n",
    "model=\"gemini-2.5-flash\",\n",
    ")"
   ]
  },
  {
   "cell_type": "code",
   "execution_count": 22,
   "id": "93b778d7",
   "metadata": {},
   "outputs": [
    {
     "name": "stderr",
     "output_type": "stream",
     "text": [
      "/var/folders/qh/dr4cc0hn7wvcwzcv1j5zfjf40000gn/T/ipykernel_15288/1877820463.py:3: PydanticDeprecatedSince20: Using extra keyword arguments on `Field` is deprecated and will be removed. Use `json_schema_extra` instead. (Extra keys: 'descriptions'). Deprecated in Pydantic V2.0 to be removed in V3.0. See Pydantic V2 Migration Guide at https://errors.pydantic.dev/2.12/migration/\n",
      "  score:int =Field(descriptions=\"Score out of 10\" ,ge=0,le=10)\n"
     ]
    }
   ],
   "source": [
    "class EvaluationSchema(BaseModel):\n",
    "    feedback:str =Field(description='Detailed feedback for the eassay')\n",
    "    score:int =Field(descriptions=\"Score out of 10\" ,ge=0,le=10)"
   ]
  },
  {
   "cell_type": "code",
   "execution_count": 23,
   "id": "abd6430a",
   "metadata": {},
   "outputs": [],
   "source": [
    "structured_llm=llm.with_structured_output(EvaluationSchema)"
   ]
  },
  {
   "cell_type": "code",
   "execution_count": 24,
   "id": "a3184c2a",
   "metadata": {},
   "outputs": [],
   "source": [
    "essay=\"\"\"\n",
    " The Journey of AI in India: A Simple Overview\n",
    "\n",
    "India's relationship with Artificial Intelligence (AI) has rapidly transformed over the past few decades, moving from a niche academic field to a core national mission.\n",
    "\n",
    "In the **early days (1960s-1990s)**, AI was primarily studied in elite institutions like the IITs and IISc. The focus was on basic research, often struggling with limited computer power. It was an era of foundations and slow progress.\n",
    "\n",
    "The 21st century** brought the breakthrough. India's booming IT industry and its massive \"Digital Public Infrastructure\" (like Aadhaar and UPI) provided a vast, real-world testing ground for AI. This led to a surge in AI applications for business automation, customer service, and finance. Bengaluru became a major hub, attracting global companies and spawning thousands of local AI startups.\n",
    "\n",
    "Today, AI in India is a national priority, guided by the government's **IndiaAI Mission**. This strategy is focused on using AI to solve India's unique social challenges. The government is investing heavily in building local AI supercomputers (GPUs), creating high-quality datasets in Indian languages, and developing India-specific AI models like **BharatGen AI** and the language platform **Bhashini**. The goal is clear: to ensure AI is \"Made in India\" and \"Works for India,\" transforming crucial sectors like healthcare, agriculture, and education to benefit the entire population. India is now aiming to be a global leader in creating inclusive and responsible AI.\n",
    "\"\"\"\n",
    "\n"
   ]
  },
  {
   "cell_type": "code",
   "execution_count": 25,
   "id": "d4ecce89",
   "metadata": {},
   "outputs": [
    {
     "data": {
      "text/plain": [
       "EvaluationSchema(feedback=\"The essay provides a clear and concise overview of AI's journey in India. The language is accessible and easy to understand, making complex information digestible for a general audience. The use of bold text effectively highlights key periods and initiatives. The flow is logical, moving from historical context to current national priorities and future aspirations. There are no significant grammatical errors or awkward phrasings. The vocabulary is appropriate and contributes to the professional yet engaging tone. Overall, the language quality is excellent, successfully conveying the intended message with clarity and impact.\", score=9)"
      ]
     },
     "execution_count": 25,
     "metadata": {},
     "output_type": "execute_result"
    }
   ],
   "source": [
    "prompt=f\"Evaluate the language quality of the following essay and provide a feedback and assign a score out of 10 In {essay}\"\n",
    "\n",
    "structured_llm.invoke(prompt)\n"
   ]
  },
  {
   "cell_type": "code",
   "execution_count": 26,
   "id": "b3266188",
   "metadata": {},
   "outputs": [],
   "source": [
    "class EssayState(TypedDict):\n",
    "    essay:str\n",
    "    language_feedback:str \n",
    "    depth_of_analysis_feedback:str\n",
    "    clarity_of_thoughts:str\n",
    "    overall_feedback:str\n",
    "    individual_score: Annotated[list[int],operator.add]\n",
    "    avg_score:float \n",
    "    "
   ]
  },
  {
   "cell_type": "code",
   "execution_count": 27,
   "id": "c8fa0be1",
   "metadata": {},
   "outputs": [],
   "source": [
    "def evaluate_langchain(state:EssayState)->EssayState:\n",
    "    prompt=f\"Evaluate the depth analysis of the following essay and provide a feedback and assign a score out of 10 In {state['essay']}\"\n",
    "    output=structured_llm.invoke(prompt)\n",
    "    return {\n",
    "        'depth_of_analysis_feedback':output.feedback,\n",
    "        'individual_score':[output.score]\n",
    "    }"
   ]
  },
  {
   "cell_type": "code",
   "execution_count": 28,
   "id": "c60cd92d",
   "metadata": {},
   "outputs": [],
   "source": [
    "def evaluate_depth_of_analysis_feedback(state:EssayState)->EssayState:\n",
    "    prompt=f\"Evaluate the language quality of the following essay and provide a feedback and assign a score out of 10 In {state['essay']}\"\n",
    "    output=structured_llm.invoke(prompt)\n",
    "    return {\n",
    "        'language_feedback':output.feedback,\n",
    "        'individual_score':[output.score]\n",
    "    }"
   ]
  },
  {
   "cell_type": "code",
   "execution_count": 29,
   "id": "5f05ff8d",
   "metadata": {},
   "outputs": [],
   "source": [
    "def evaluate_clarity_of_thoughts(state:EssayState)->EssayState:\n",
    "    prompt=f\"Evaluate the clarity of thoughts of the following essay and provide a feedback and assign a score out of 10 In {state['essay']}\"\n",
    "    output=structured_llm.invoke(prompt)\n",
    "    return {\n",
    "        'clarity_of_thoughts':output.feedback,\n",
    "        'individual_score':[output.score]\n",
    "    }"
   ]
  },
  {
   "cell_type": "code",
   "execution_count": 41,
   "id": "3c9e9a7e",
   "metadata": {},
   "outputs": [],
   "source": [
    "def final_evalutions(state:EssayState)->EssayState:\n",
    "    prompt=f\"Based on the following feedbacks create a summarized feedback \\n  langauage_feedback: {state['language_feedback']}  \\n depth_of_analysis_feedback: {state['depth_of_analysis_feedback']}  \\n clarity_of_thoughts: {state['clarity_of_thoughts']}  \\n   \"\n",
    "    output=structured_llm.invoke(prompt)\n",
    "\n",
    "    avg=sum(state['individual_score'])/len(state['individual_score'])\n",
    "    return {\n",
    "        'overall_feedback':output.feedback,\n",
    "        'avg_score':[output.score]\n",
    "    }"
   ]
  },
  {
   "cell_type": "code",
   "execution_count": 42,
   "id": "9184cc9f",
   "metadata": {},
   "outputs": [],
   "source": [
    "graph=StateGraph(EssayState)\n",
    "\n",
    "graph.add_node('evaluate_langauge',evaluate_langchain)\n",
    "graph.add_node('evaluate_depth_of_analysis_feedback',evaluate_depth_of_analysis_feedback)\n",
    "graph.add_node('evaluate_clarity_of_thoughts',evaluate_clarity_of_thoughts)\n",
    "graph.add_node('final_evalutions',final_evalutions)\n",
    "\n",
    "\n",
    "#adding edges \n",
    "\n",
    "graph.add_edge(START,'evaluate_langauge')\n",
    "graph.add_edge(START,'evaluate_depth_of_analysis_feedback')\n",
    "graph.add_edge(START,'evaluate_clarity_of_thoughts')\n",
    "\n",
    "graph.add_edge('evaluate_langauge','final_evalutions')\n",
    "graph.add_edge('evaluate_depth_of_analysis_feedback','final_evalutions')\n",
    "graph.add_edge('evaluate_clarity_of_thoughts','final_evalutions')\n",
    "\n",
    "workflow=graph.compile()\n"
   ]
  },
  {
   "cell_type": "code",
   "execution_count": 39,
   "id": "a6d34a6c",
   "metadata": {},
   "outputs": [
    {
     "data": {
      "image/png": "[encoded data removed]",
      "text/plain": [
       "<langgraph.graph.state.CompiledStateGraph object at 0x1114f2490>"
      ]
     },
     "execution_count": 39,
     "metadata": {},
     "output_type": "execute_result"
    }
   ],
   "source": [
    "workflow"
   ]
  },
  {
   "cell_type": "code",
   "execution_count": 43,
   "id": "6e669a1c",
   "metadata": {},
   "outputs": [
    {
     "name": "stdout",
     "output_type": "stream",
     "text": [
      "{'essay': '\\n The Journey of AI in India: A Simple Overview\\n\\nIndia\\'s relationship with Artificial Intelligence (AI) has rapidly transformed over the past few decades, moving from a niche academic field to a core national mission.\\n\\nIn the **early days (1960s-1990s)**, AI was primarily studied in elite institutions like the IITs and IISc. The focus was on basic research, often struggling with limited computer power. It was an era of foundations and slow progress.\\n\\nThe 21st century** brought the breakthrough. India\\'s booming IT industry and its massive \"Digital Public Infrastructure\" (like Aadhaar and UPI) provided a vast, real-world testing ground for AI. This led to a surge in AI applications for business automation, customer service, and finance. Bengaluru became a major hub, attracting global companies and spawning thousands of local AI startups.\\n\\nToday, AI in India is a national priority, guided by the government\\'s **IndiaAI Mission**. This strategy is focused on using AI to solve India\\'s unique social challenges. The government is investing heavily in building local AI supercomputers (GPUs), creating high-quality datasets in Indian languages, and developing India-specific AI models like **BharatGen AI** and the language platform **Bhashini**. The goal is clear: to ensure AI is \"Made in India\" and \"Works for India,\" transforming crucial sectors like healthcare, agriculture, and education to benefit the entire population. India is now aiming to be a global leader in creating inclusive and responsible AI.\\n', 'language_feedback': 'The essay provides a clear, concise, and well-structured overview of the journey of AI in India. The language is accessible and effectively communicates the key developments from early academic research to current national initiatives. The chronological flow makes it easy to follow the narrative, and the vocabulary is appropriate for a general audience. There are no significant grammatical errors or spelling mistakes, contributing to a professional and polished presentation. The essay successfully achieves its goal of offering a simple yet informative overview.', 'depth_of_analysis_feedback': \"The essay provides a clear and concise 'simple overview' of AI's journey in India, effectively segmenting the timeline and highlighting key drivers like Digital Public Infrastructure and current initiatives such as BharatGen AI and Bhashini. While it successfully outlines the evolution, to enhance the 'depth analysis,' it could benefit from more specific examples of early AI research, quantitative data to support growth claims, or a brief discussion on challenges and ethical considerations beyond a high-level mention. For its stated purpose as a simple overview, it is well-structured and informative.\", 'clarity_of_thoughts': 'The essay demonstrates excellent clarity of thought. It provides a concise yet comprehensive overview of AI\\'s journey in India, effectively categorizing its evolution into distinct periods. The logical progression from academic beginnings to industry adoption and finally to a national strategic priority is very well articulated. The inclusion of specific examples like \"Digital Public Infrastructure,\" \"Aadhaar,\" \"UPI,\" \"IndiaAI Mission,\" \"BharatGen AI,\" and \"Bhashini\" significantly enhances the clarity and provides concrete evidence for the claims made. The essay\\'s focus on \"Made in India\" and \"Works for India\" effectively summarizes the current national objective. The language is accessible, making complex information easy to digest.', 'overall_feedback': \"The essay provides a clear, concise, and well-structured overview of AI's journey in India, demonstrating excellent clarity of thought and accessible language. It effectively chronicles developments from early academic research to current national initiatives like BharatGen AI and Bhashini, with a logical progression and specific examples. While successful as a simple overview, for enhanced depth, it could incorporate more specific examples of early research, quantitative data, or a discussion on challenges and ethical considerations.\", 'individual_score': [9, 9, 7], 'avg_score': [8]}\n"
     ]
    }
   ],
   "source": [
    "intial_state={\n",
    "    'essay':essay,\n",
    "}\n",
    "\n",
    "ans=workflow.invoke(intial_state)\n",
    "print(ans)"
   ]
  }
 ],
 "metadata": {
  "kernelspec": {
   "display_name": "venv (3.13.5)",
   "language": "python",
   "name": "python3"
  },
  "language_info": {
   "codemirror_mode": {
    "name": "ipython",
    "version": 3
   },
   "file_extension": ".py",
   "mimetype": "text/x-python",
   "name": "python",
   "nbconvert_exporter": "python",
   "pygments_lexer": "ipython3",
   "version": "3.13.5"
  }
 },
 "nbformat": 4,
 "nbformat_minor": 5
}
