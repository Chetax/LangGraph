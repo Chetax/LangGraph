{
 "cells": [
  {
   "cell_type": "code",
   "execution_count": 1,
   "id": "e398fcee",
   "metadata": {},
   "outputs": [],
   "source": [
    "from langgraph.graph import StateGraph,START,END\n",
    "from typing import TypedDict\n"
   ]
  },
  {
   "cell_type": "code",
   "execution_count": 2,
   "id": "d4bb8ced",
   "metadata": {},
   "outputs": [],
   "source": [
    "class BatsManState(TypedDict):\n",
    "    runs:int \n",
    "    balls:int \n",
    "    fours:int \n",
    "    sixes:int \n",
    "\n",
    "    strike_rate:float \n",
    "    boundaries_per_ball:float \n",
    "    boundaries_percent:float\n",
    "    summary:str "
   ]
  },
  {
   "cell_type": "code",
   "execution_count": 10,
   "id": "d538c65d",
   "metadata": {},
   "outputs": [],
   "source": [
    "def calculate_strike_rate(state:BatsManState)->BatsManState:\n",
    "    sr=(state['runs']/state['balls'])*100\n",
    "    return {'strike_rate':sr}"
   ]
  },
  {
   "cell_type": "code",
   "execution_count": 11,
   "id": "2faf3d72",
   "metadata": {},
   "outputs": [],
   "source": [
    "def boundaries_per_ball(state:BatsManState)->BatsManState:\n",
    "    boundaries_per_ball=state['balls']/(state['fours']+state['sixes'])\n",
    "    return {'boundaries_per_ball':boundaries_per_ball}"
   ]
  },
  {
   "cell_type": "code",
   "execution_count": 12,
   "id": "4ea9762e",
   "metadata": {},
   "outputs": [],
   "source": [
    "def boundaries_percent(state:BatsManState)->BatsManState:\n",
    "    boundaries_percent=((state['fours']*4+state['sixes']*6)/state['runs'])*100\n",
    "    return {'boundaries_percent':boundaries_percent}"
   ]
  },
  {
   "cell_type": "code",
   "execution_count": 13,
   "id": "80649f87",
   "metadata": {},
   "outputs": [],
   "source": [
    "def summary(state:BatsManState)->BatsManState:\n",
    "    summary=f\"\"\"\n",
    "    Strike Rate :{state['strike_rate']} \\n \n",
    "    Boundaries Per Ball : {state['boundaries_per_ball']} \\n \n",
    "    Boundaries Percent : {state['boundaries_percent']} \\n \n",
    "\"\"\"\n",
    "\n",
    "    return {'summary':summary}"
   ]
  },
  {
   "cell_type": "code",
   "execution_count": 16,
   "id": "5b8a4aeb",
   "metadata": {},
   "outputs": [],
   "source": [
    "graph=StateGraph(BatsManState)\n",
    "\n",
    "graph.add_node('calculate_strike_rate',calculate_strike_rate)\n",
    "graph.add_node('calculate_boundaries_per_ball',boundaries_per_ball)\n",
    "graph.add_node('calculate_boundaries_percent',boundaries_percent)\n",
    "graph.add_node('summary',summary)\n",
    "\n",
    "\n",
    "graph.add_edge(START,'calculate_strike_rate')\n",
    "graph.add_edge(START,'calculate_boundaries_per_ball')\n",
    "graph.add_edge(START,'calculate_boundaries_percent')\n",
    "\n",
    "graph.add_edge('calculate_strike_rate','summary')\n",
    "graph.add_edge('calculate_boundaries_per_ball','summary')\n",
    "graph.add_edge('calculate_boundaries_percent','summary')\n",
    "\n",
    "graph.add_edge('summary',END)\n",
    "\n",
    "workflow=graph.compile()"
   ]
  },
  {
   "cell_type": "code",
   "execution_count": 17,
   "id": "4686ffb3",
   "metadata": {},
   "outputs": [
    {
     "name": "stdout",
     "output_type": "stream",
     "text": [
      "{'runs': 100, 'balls': 50, 'fours': 6, 'sixes': 4, 'strike_rate': 200.0, 'boundaries_per_ball': 5.0, 'boundaries_percent': 48.0, 'summary': '\\n    Strike Rate :200.0 \\n \\n    Boundaries Per Ball : 5.0 \\n \\n    Boundaries Percent : 48.0 \\n \\n'}\n"
     ]
    }
   ],
   "source": [
    "initial_state={'runs':100,\n",
    "               'balls':50,\n",
    "                'fours':6 ,\n",
    "                'sixes':4,\n",
    "               }\n",
    "\n",
    "output_state=workflow.invoke(initial_state)\n",
    "print(output_state)"
   ]
  }
 ],
 "metadata": {
  "kernelspec": {
   "display_name": "venv (3.13.5)",
   "language": "python",
   "name": "python3"
  },
  "language_info": {
   "codemirror_mode": {
    "name": "ipython",
    "version": 3
   },
   "file_extension": ".py",
   "mimetype": "text/x-python",
   "name": "python",
   "nbconvert_exporter": "python",
   "pygments_lexer": "ipython3",
   "version": "3.13.5"
  }
 },
 "nbformat": 4,
 "nbformat_minor": 5
}
