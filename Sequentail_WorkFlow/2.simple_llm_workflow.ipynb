{
 "cells": [
  {
   "cell_type": "code",
   "execution_count": 6,
   "id": "6443e04d",
   "metadata": {},
   "outputs": [],
   "source": [
    "from langgraph.graph import StateGraph,START,END\n",
    "from langchain_google_genai import ChatGoogleGenerativeAI\n",
    "from typing import TypedDict\n",
    "from dotenv import load_dotenv"
   ]
  },
  {
   "cell_type": "code",
   "execution_count": 3,
   "id": "9832734a",
   "metadata": {},
   "outputs": [
    {
     "data": {
      "text/plain": [
       "True"
      ]
     },
     "execution_count": 3,
     "metadata": {},
     "output_type": "execute_result"
    }
   ],
   "source": [
    "load_dotenv()"
   ]
  },
  {
   "cell_type": "code",
   "execution_count": null,
   "id": "c77c96c9",
   "metadata": {},
   "outputs": [
    {
     "name": "stderr",
     "output_type": "stream",
     "text": [
      "WARNING: All log messages before absl::InitializeLog() is called are written to STDERR\n",
      "E0000 00:00:1760365168.463894  203331 alts_credentials.cc:93] ALTS creds ignored. Not running on GCP and untrusted ALTS is not enabled.\n"
     ]
    }
   ],
   "source": [
    "llm=ChatGoogleGenerativeAI(\n",
    "    model=\"gemini-2.5-flash\",\n",
    ")"
   ]
  },
  {
   "cell_type": "code",
   "execution_count": 5,
   "id": "d19189aa",
   "metadata": {},
   "outputs": [
    {
     "data": {
      "text/plain": [
       "AIMessage(content='Hello! How can I help you today?', additional_kwargs={}, response_metadata={'prompt_feedback': {'block_reason': 0, 'safety_ratings': []}, 'finish_reason': 'STOP', 'model_name': 'gemini-2.5-flash', 'safety_ratings': []}, id='run--c4b85be5-d7c6-4fee-8e67-d1e61b83d004-0', usage_metadata={'input_tokens': 2, 'output_tokens': 40, 'total_tokens': 42, 'input_token_details': {'cache_read': 0}, 'output_token_details': {'reasoning': 31}})"
      ]
     },
     "execution_count": 5,
     "metadata": {},
     "output_type": "execute_result"
    }
   ],
   "source": [
    "llm.invoke('Hello')"
   ]
  },
  {
   "cell_type": "code",
   "execution_count": 9,
   "id": "3ee5d07c",
   "metadata": {},
   "outputs": [],
   "source": [
    "class LLMState(TypedDict):\n",
    "    question:str\n",
    "    answer:str\n",
    "    "
   ]
  },
  {
   "cell_type": "code",
   "execution_count": 10,
   "id": "c9dc48f6",
   "metadata": {},
   "outputs": [],
   "source": [
    "def llm_qna(state:LLMState)->LLMState:\n",
    "    #question extractions \n",
    "\n",
    "    question=state['question']\n",
    "\n",
    "    #form an prompt \n",
    "    prompt=f'Answer the follwing question {question}'\n",
    "    \n",
    "    # call llm\n",
    "\n",
    "    reponse=llm.invoke(prompt).content\n",
    "\n",
    "    # llm update\n",
    "\n",
    "    state['answer']=reponse\n",
    "    \n",
    "    return state\n"
   ]
  },
  {
   "cell_type": "code",
   "execution_count": 13,
   "id": "364f2485",
   "metadata": {},
   "outputs": [],
   "source": [
    "#create an graph\n",
    "graph=StateGraph(LLMState)\n",
    "\n",
    "#add node \n",
    "\n",
    "graph.add_node('llm_qna',llm_qna)\n",
    "\n",
    "#add edge \n",
    "graph.add_edge(START,'llm_qna')\n",
    "graph.add_edge('llm_qna',END)\n",
    "\n",
    "\n",
    "#complile\n",
    " \n",
    "workflow=graph.compile()\n",
    "\n"
   ]
  },
  {
   "cell_type": "code",
   "execution_count": 14,
   "id": "b6ea1c4c",
   "metadata": {},
   "outputs": [
    {
     "name": "stdout",
     "output_type": "stream",
     "text": [
      "{'question': 'How far the moon is from earth', 'answer': \"The average distance from the Earth to the Moon is **384,400 kilometers (238,900 miles)**.\\n\\nHowever, the Moon's orbit around the Earth is not a perfect circle, but an ellipse. This means the distance varies throughout its orbit:\\n\\n*   **Perigee (closest point):** Approximately 363,104 km (225,623 miles)\\n*   **Apogee (farthest point):** Approximately 405,696 km (252,088 miles)\\n\\nSo, while the average is a good general number, the actual distance is constantly changing!\"}\n"
     ]
    }
   ],
   "source": [
    "intial_state={'question':'How far the moon is from earth'}\n",
    "\n",
    "final_state=workflow.invoke(intial_state)\n",
    "\n",
    "print(final_state)"
   ]
  }
 ],
 "metadata": {
  "kernelspec": {
   "display_name": "venv (3.13.5)",
   "language": "python",
   "name": "python3"
  },
  "language_info": {
   "codemirror_mode": {
    "name": "ipython",
    "version": 3
   },
   "file_extension": ".py",
   "mimetype": "text/x-python",
   "name": "python",
   "nbconvert_exporter": "python",
   "pygments_lexer": "ipython3",
   "version": "3.13.5"
  }
 },
 "nbformat": 4,
 "nbformat_minor": 5
}
