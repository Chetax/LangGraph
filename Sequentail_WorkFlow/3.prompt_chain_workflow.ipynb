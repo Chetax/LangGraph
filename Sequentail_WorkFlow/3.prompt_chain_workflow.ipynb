{
 "cells": [
  {
   "cell_type": "markdown",
   "id": "aed9706c",
   "metadata": {},
   "source": [
    "# Here we Convert an Topic to Blog \n",
    "## Topic -> LLM will generate outline -> outline fed into LLM -> Generate Blog"
   ]
  },
  {
   "cell_type": "code",
   "execution_count": 5,
   "id": "65a211d3",
   "metadata": {},
   "outputs": [],
   "source": [
    "from langgraph.graph import StateGraph,START,END\n",
    "from langchain_google_genai import ChatGoogleGenerativeAI\n",
    "from typing import TypedDict\n",
    "from dotenv import load_dotenv"
   ]
  },
  {
   "cell_type": "code",
   "execution_count": 6,
   "id": "ee1d94c2",
   "metadata": {},
   "outputs": [
    {
     "name": "stderr",
     "output_type": "stream",
     "text": [
      "E0000 00:00:1760369181.360458  246892 alts_credentials.cc:93] ALTS creds ignored. Not running on GCP and untrusted ALTS is not enabled.\n"
     ]
    }
   ],
   "source": [
    "load_dotenv()\n",
    "\n",
    "llm=ChatGoogleGenerativeAI(\n",
    "model=\"gemini-2.5-flash\",\n",
    ")"
   ]
  },
  {
   "cell_type": "code",
   "execution_count": 7,
   "id": "97177186",
   "metadata": {},
   "outputs": [],
   "source": [
    "class BlogState(TypedDict):\n",
    "    title:str \n",
    "    outline:str \n",
    "    content:str \n",
    "    "
   ]
  },
  {
   "cell_type": "code",
   "execution_count": 8,
   "id": "35bf1d67",
   "metadata": {},
   "outputs": [],
   "source": [
    "def create_outline(state:BlogState)->BlogState:\n",
    "    title=state['title']\n",
    "    prompt=f'Create an outline of 10-20 words which we can used for creating blog for follwoing topic : {title}'\n",
    "    response=llm.invoke(prompt).content\n",
    "    state['outline']=response\n",
    "    return state"
   ]
  },
  {
   "cell_type": "code",
   "execution_count": 9,
   "id": "7df08381",
   "metadata": {},
   "outputs": [],
   "source": [
    "def create_blog(state:BlogState)->BlogState:\n",
    "    title=state['outline']\n",
    "    prompt=f'Create an blog of 50-100 words which is based on  follwoing topic : {title} . add humor , thriling ,facts in blog'\n",
    "    response=llm.invoke(prompt).content\n",
    "    state['content']=response\n",
    "    return state"
   ]
  },
  {
   "cell_type": "code",
   "execution_count": 12,
   "id": "e48191ff",
   "metadata": {},
   "outputs": [],
   "source": [
    "graph=StateGraph(BlogState)\n",
    "\n",
    "\n",
    "#add node \n",
    "graph.add_node('create_outline',create_outline)\n",
    "graph.add_node('create_blog',create_blog)\n",
    "\n",
    "#add edges \n",
    "\n",
    "graph.add_edge(START,'create_outline')\n",
    "graph.add_edge('create_outline','create_blog')\n",
    "graph.add_edge('create_blog',END)\n",
    "\n",
    "#compile \n",
    "workflow=graph.compile() \n"
   ]
  },
  {
   "cell_type": "code",
   "execution_count": 14,
   "id": "b69f3e7e",
   "metadata": {},
   "outputs": [
    {
     "name": "stdout",
     "output_type": "stream",
     "text": [
      "{'title': 'Life', 'outline': '**Life: Meaning, joys, challenges. Growth, purpose. Embrace change, connect. Live fully.** (16 words)', 'content': 'Life, eh? One minute you\\'re pondering its deep meaning, the next you\\'re Googling \"why did my bread burn?\" (Spoiler: it\\'s rarely a cosmic challenge). Joys? Plentiful! Challenges? Like that one rogue sock in the laundry – always there.\\n\\nBut here\\'s the thrilling part: every stumble is a chance to grow. Did you know the average person makes around 35,000 decisions daily? That\\'s 35,000 opportunities for purpose! Embrace change like a cat finding a new sunbeam. Connect deeply, because humans are, scientifically, social creatures. So, laugh, learn, leap! Live fully, because this wild ride isn\\'t a dress rehearsal.'}\n"
     ]
    }
   ],
   "source": [
    "initial_state={\"title\":\"Life\"}\n",
    "output_state=workflow.invoke(initial_state)\n",
    "print(output_state)"
   ]
  },
  {
   "cell_type": "code",
   "execution_count": 15,
   "id": "c8be1694",
   "metadata": {},
   "outputs": [
    {
     "name": "stdout",
     "output_type": "stream",
     "text": [
      "Life, eh? One minute you're pondering its deep meaning, the next you're Googling \"why did my bread burn?\" (Spoiler: it's rarely a cosmic challenge). Joys? Plentiful! Challenges? Like that one rogue sock in the laundry – always there.\n",
      "\n",
      "But here's the thrilling part: every stumble is a chance to grow. Did you know the average person makes around 35,000 decisions daily? That's 35,000 opportunities for purpose! Embrace change like a cat finding a new sunbeam. Connect deeply, because humans are, scientifically, social creatures. So, laugh, learn, leap! Live fully, because this wild ride isn't a dress rehearsal.\n"
     ]
    }
   ],
   "source": [
    "print(output_state['content'])"
   ]
  }
 ],
 "metadata": {
  "kernelspec": {
   "display_name": "venv (3.13.5)",
   "language": "python",
   "name": "python3"
  },
  "language_info": {
   "codemirror_mode": {
    "name": "ipython",
    "version": 3
   },
   "file_extension": ".py",
   "mimetype": "text/x-python",
   "name": "python",
   "nbconvert_exporter": "python",
   "pygments_lexer": "ipython3",
   "version": "3.13.5"
  }
 },
 "nbformat": 4,
 "nbformat_minor": 5
}
